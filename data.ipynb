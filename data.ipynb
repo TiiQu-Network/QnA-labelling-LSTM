{
 "cells": [
  {
   "attachments": {},
   "cell_type": "markdown",
   "metadata": {},
   "source": [
    "### Libraries"
   ]
  },
  {
   "cell_type": "code",
   "execution_count": 3,
   "metadata": {},
   "outputs": [],
   "source": [
    "# data manipluation \n",
    "import pandas as pd\n",
    "import csv\n",
    "import os\n",
    "import re\n",
    "import numpy as np\n",
    "from tqdm import tqdm\n",
    "from sklearn.model_selection import train_test_split\n",
    "from sklearn.preprocessing import LabelEncoder"
   ]
  },
  {
   "attachments": {},
   "cell_type": "markdown",
   "metadata": {},
   "source": [
    "### Immbalanced label data"
   ]
  },
  {
   "cell_type": "code",
   "execution_count": 4,
   "metadata": {},
   "outputs": [
    {
     "name": "stdout",
     "output_type": "stream",
     "text": [
      "<class 'pandas.core.frame.DataFrame'>\n",
      "RangeIndex: 2359 entries, 0 to 2358\n",
      "Data columns (total 4 columns):\n",
      " #   Column      Non-Null Count  Dtype  \n",
      "---  ------      --------------  -----  \n",
      " 0   Unnamed: 0  0 non-null      float64\n",
      " 1   Label       1371 non-null   object \n",
      " 2   Question    2358 non-null   object \n",
      " 3   Answer      2352 non-null   object \n",
      "dtypes: float64(1), object(3)\n",
      "memory usage: 73.8+ KB\n",
      "None\n",
      "\n",
      "====================\n",
      "\n",
      "<class 'pandas.core.frame.DataFrame'>\n",
      "RangeIndex: 1178 entries, 0 to 1177\n",
      "Data columns (total 9 columns):\n",
      " #   Column      Non-Null Count  Dtype \n",
      "---  ------      --------------  ----- \n",
      " 0   keywords    578 non-null    object\n",
      " 1   label       1155 non-null   object\n",
      " 2   Question    1178 non-null   object\n",
      " 3   Answer      1178 non-null   object\n",
      " 4   topic       1178 non-null   object\n",
      " 5   subtopic    958 non-null    object\n",
      " 6   topic.1     1178 non-null   object\n",
      " 7   subtopic.1  957 non-null    object\n",
      " 8   URL source  1 non-null      object\n",
      "dtypes: object(9)\n",
      "memory usage: 83.0+ KB\n",
      "None\n"
     ]
    }
   ],
   "source": [
    "# Load the files to create the training data\n",
    "\n",
    "df1 = pd.read_csv('data\\Q&A dataset with label - 05 04.csv')\n",
    "df2 = pd.read_csv('data\\Q&A dataset with label - 1502-subtopics with comments (2).csv', header=1)\n",
    "\n",
    "print(df1.info())\n",
    "print('\\n====================\\n')\n",
    "print(df2.info())"
   ]
  },
  {
   "attachments": {},
   "cell_type": "markdown",
   "metadata": {},
   "source": [
    "#### Cleaning df1"
   ]
  },
  {
   "cell_type": "code",
   "execution_count": 5,
   "metadata": {},
   "outputs": [],
   "source": [
    "# Drop the unnamed column\n",
    "df1 = df1.drop(columns='Unnamed: 0', axis=1)\n",
    "df1 = df1[['Question', 'Answer', 'Label']]\n",
    "df1 = df1.dropna()"
   ]
  },
  {
   "attachments": {},
   "cell_type": "markdown",
   "metadata": {},
   "source": [
    "The cells below look into removing label values which include more than 1 label, eg. strategy, analysis"
   ]
  },
  {
   "cell_type": "code",
   "execution_count": 6,
   "metadata": {},
   "outputs": [
    {
     "data": {
      "text/plain": [
       "array(['taxonomy', 'factual', 'ethics and regulation', 'analysis',\n",
       "       'strategy', 'analysis, strategy',\n",
       "       'strategy, ethics and regulation',\n",
       "       'ethics and regulation, strategy',\n",
       "       'ethics and regulation, factual',\n",
       "       'ethics and regulation, analysis',\n",
       "       'ethics and regulation, taxonomy', 'management', 'Strategy',\n",
       "       'factual, ethics and regulation', 'science and tech',\n",
       "       'strategy,analysis', 'anlysis', 'strrategy', 'taxonomy, strategy'],\n",
       "      dtype=object)"
      ]
     },
     "execution_count": 6,
     "metadata": {},
     "output_type": "execute_result"
    }
   ],
   "source": [
    "df1['Label'].unique()"
   ]
  },
  {
   "cell_type": "code",
   "execution_count": 7,
   "metadata": {},
   "outputs": [
    {
     "data": {
      "text/plain": [
       "array(['taxonomy', 'factual', 'ethics and regulation', 'analysis',\n",
       "       'strategy', 'management', 'science and tech'], dtype=object)"
      ]
     },
     "execution_count": 7,
     "metadata": {},
     "output_type": "execute_result"
    }
   ],
   "source": [
    "# The code below will change the labels to one specific label. eg different spelling of same label\n",
    "df1 = df1.replace(['Strategy','strategies', 'strrategy', ''],'strategy')\n",
    "df1 = df1.replace(['Analysis', 'anlysis'],'analysis')\n",
    "\n",
    "df1 = df1[df1['Label'].isin(['ethics and regulation', 'analysis', 'strategy', 'science and tech', 'factual', 'taxonomy', 'management'])]\n",
    "df1['Label'].unique()"
   ]
  },
  {
   "cell_type": "code",
   "execution_count": 15,
   "metadata": {},
   "outputs": [
    {
     "name": "stdout",
     "output_type": "stream",
     "text": [
      "<class 'pandas.core.frame.DataFrame'>\n",
      "Int64Index: 1339 entries, 0 to 1395\n",
      "Data columns (total 3 columns):\n",
      " #   Column    Non-Null Count  Dtype \n",
      "---  ------    --------------  ----- \n",
      " 0   Question  1339 non-null   object\n",
      " 1   Answer    1339 non-null   object\n",
      " 2   Label     1339 non-null   object\n",
      "dtypes: object(3)\n",
      "memory usage: 41.8+ KB\n"
     ]
    }
   ],
   "source": [
    "df1.info()"
   ]
  },
  {
   "attachments": {},
   "cell_type": "markdown",
   "metadata": {},
   "source": [
    "#### Cleaning df2"
   ]
  },
  {
   "cell_type": "code",
   "execution_count": 8,
   "metadata": {},
   "outputs": [
    {
     "data": {
      "text/html": [
       "<div>\n",
       "<style scoped>\n",
       "    .dataframe tbody tr th:only-of-type {\n",
       "        vertical-align: middle;\n",
       "    }\n",
       "\n",
       "    .dataframe tbody tr th {\n",
       "        vertical-align: top;\n",
       "    }\n",
       "\n",
       "    .dataframe thead th {\n",
       "        text-align: right;\n",
       "    }\n",
       "</style>\n",
       "<table border=\"1\" class=\"dataframe\">\n",
       "  <thead>\n",
       "    <tr style=\"text-align: right;\">\n",
       "      <th></th>\n",
       "      <th>Question</th>\n",
       "      <th>Answer</th>\n",
       "      <th>label</th>\n",
       "    </tr>\n",
       "  </thead>\n",
       "  <tbody>\n",
       "    <tr>\n",
       "      <th>626</th>\n",
       "      <td>How can policy-makers and politicians support ...</td>\n",
       "      <td>Policy-makers and politicians should make effo...</td>\n",
       "      <td>Ethics &amp; reg</td>\n",
       "    </tr>\n",
       "    <tr>\n",
       "      <th>242</th>\n",
       "      <td>Where can people learn about strategies used t...</td>\n",
       "      <td>People can learn more about both active or pas...</td>\n",
       "      <td>taxonomies</td>\n",
       "    </tr>\n",
       "  </tbody>\n",
       "</table>\n",
       "</div>"
      ],
      "text/plain": [
       "                                              Question  \\\n",
       "626  How can policy-makers and politicians support ...   \n",
       "242  Where can people learn about strategies used t...   \n",
       "\n",
       "                                                Answer         label  \n",
       "626  Policy-makers and politicians should make effo...  Ethics & reg  \n",
       "242  People can learn more about both active or pas...    taxonomies  "
      ]
     },
     "execution_count": 8,
     "metadata": {},
     "output_type": "execute_result"
    }
   ],
   "source": [
    "df2 = df2[['Question', 'Answer', 'label']]\n",
    "df2 = df2[pd.notnull(df2['label'])]\n",
    "df2.sample(2)"
   ]
  },
  {
   "cell_type": "code",
   "execution_count": 9,
   "metadata": {},
   "outputs": [
    {
     "name": "stdout",
     "output_type": "stream",
     "text": [
      "<class 'pandas.core.frame.DataFrame'>\n",
      "Int64Index: 1155 entries, 0 to 1177\n",
      "Data columns (total 3 columns):\n",
      " #   Column    Non-Null Count  Dtype \n",
      "---  ------    --------------  ----- \n",
      " 0   Question  1155 non-null   object\n",
      " 1   Answer    1155 non-null   object\n",
      " 2   Label     1155 non-null   object\n",
      "dtypes: object(3)\n",
      "memory usage: 36.1+ KB\n"
     ]
    }
   ],
   "source": [
    "df2.rename(columns={'label': 'Label'}, inplace=True)\n",
    "df2.info()"
   ]
  },
  {
   "cell_type": "code",
   "execution_count": 10,
   "metadata": {},
   "outputs": [],
   "source": [
    "# The code below will change the labels to one specific label. eg different spelling of same label\n",
    "df2 = df2.replace(['Strategy','strategies', 'strrategy', 'str'],'strategy')\n",
    "df2 = df2.replace(['Ethics and regulation', 'Ethics & reg', 'ethic and reg'],'ethics and regulation')\n",
    "df2 = df2.replace(['science&tech'],'science and tech')\n",
    "df2 = df2.replace(['taxonomies'],'taxonomy')\n",
    "df2 = df2.replace(['factual ', 'factual,', 'Factual'],'factual')"
   ]
  },
  {
   "cell_type": "code",
   "execution_count": 11,
   "metadata": {},
   "outputs": [
    {
     "name": "stdout",
     "output_type": "stream",
     "text": [
      "<class 'pandas.core.frame.DataFrame'>\n",
      "Int64Index: 1066 entries, 1 to 1177\n",
      "Data columns (total 3 columns):\n",
      " #   Column    Non-Null Count  Dtype \n",
      "---  ------    --------------  ----- \n",
      " 0   Question  1066 non-null   object\n",
      " 1   Answer    1066 non-null   object\n",
      " 2   Label     1066 non-null   object\n",
      "dtypes: object(3)\n",
      "memory usage: 33.3+ KB\n"
     ]
    }
   ],
   "source": [
    "df2 = df2[df2['Label'].isin(['ethics and regulation', 'analysis', 'strategy', 'science and tech', 'factual', 'taxonomy', 'management'])]\n",
    "df2.info()"
   ]
  },
  {
   "attachments": {},
   "cell_type": "markdown",
   "metadata": {},
   "source": [
    "#### Merging df1 and df2"
   ]
  },
  {
   "cell_type": "code",
   "execution_count": 12,
   "metadata": {},
   "outputs": [
    {
     "name": "stdout",
     "output_type": "stream",
     "text": [
      "<class 'pandas.core.frame.DataFrame'>\n",
      "RangeIndex: 2405 entries, 0 to 2404\n",
      "Data columns (total 3 columns):\n",
      " #   Column    Non-Null Count  Dtype \n",
      "---  ------    --------------  ----- \n",
      " 0   Question  2405 non-null   object\n",
      " 1   Answer    2405 non-null   object\n",
      " 2   Label     2405 non-null   object\n",
      "dtypes: object(3)\n",
      "memory usage: 56.5+ KB\n"
     ]
    }
   ],
   "source": [
    "df = pd.concat([df1, df2], ignore_index=True)\n",
    "df.info()"
   ]
  },
  {
   "cell_type": "code",
   "execution_count": 13,
   "metadata": {},
   "outputs": [
    {
     "data": {
      "text/plain": [
       "<Axes: xlabel='Label'>"
      ]
     },
     "execution_count": 13,
     "metadata": {},
     "output_type": "execute_result"
    },
    {
     "data": {
      "image/png": "[encoded data removed]",
      "text/plain": [
       "<Figure size 640x480 with 1 Axes>"
      ]
     },
     "metadata": {},
     "output_type": "display_data"
    }
   ],
   "source": [
    "df.groupby(['Label']).size().plot.bar()"
   ]
  },
  {
   "cell_type": "code",
   "execution_count": 14,
   "metadata": {},
   "outputs": [
    {
     "data": {
      "text/plain": [
       "science and tech         566\n",
       "strategy                 511\n",
       "analysis                 461\n",
       "ethics and regulation    436\n",
       "others                   431\n",
       "Name: Label, dtype: int64"
      ]
     },
     "execution_count": 14,
     "metadata": {},
     "output_type": "execute_result"
    }
   ],
   "source": [
    "df['Label'] = df['Label'].replace(['factual', 'taxonomy', 'management'], 'others')\n",
    "df['Label'].value_counts()"
   ]
  },
  {
   "cell_type": "code",
   "execution_count": 15,
   "metadata": {},
   "outputs": [],
   "source": [
    "# save the file\n",
    "df.to_csv('data/train_combined_imbalanced.csv', index=False)"
   ]
  },
  {
   "attachments": {},
   "cell_type": "markdown",
   "metadata": {},
   "source": [
    "### Balanced Data"
   ]
  },
  {
   "attachments": {},
   "cell_type": "markdown",
   "metadata": {},
   "source": [
    "#### Load the data"
   ]
  },
  {
   "cell_type": "code",
   "execution_count": 16,
   "metadata": {},
   "outputs": [
    {
     "name": "stdout",
     "output_type": "stream",
     "text": [
      "<class 'pandas.core.frame.DataFrame'>\n",
      "RangeIndex: 2405 entries, 0 to 2404\n",
      "Data columns (total 3 columns):\n",
      " #   Column    Non-Null Count  Dtype \n",
      "---  ------    --------------  ----- \n",
      " 0   Question  2405 non-null   object\n",
      " 1   Answer    2405 non-null   object\n",
      " 2   Label     2405 non-null   object\n",
      "dtypes: object(3)\n",
      "memory usage: 56.5+ KB\n"
     ]
    }
   ],
   "source": [
    "# Load the train_combined_imabalanced.csv file created earlier\n",
    "df = pd.read_csv('data/train_combined_imbalanced.csv')\n",
    "df.info()"
   ]
  },
  {
   "attachments": {},
   "cell_type": "markdown",
   "metadata": {},
   "source": [
    "#### Split the data"
   ]
  },
  {
   "cell_type": "code",
   "execution_count": 17,
   "metadata": {},
   "outputs": [],
   "source": [
    "df_strat = df[df['Label'] == 'strategy'][:400]\n",
    "df_strat_test = df[df['Label'] == 'strategy'][400:]\n",
    "\n",
    "df_sci = df[df['Label'] == 'science and tech'][:400]\n",
    "df_sci_test = df[df['Label'] == 'science and tech'][400:]\n",
    "\n",
    "df_analysis = df[df['Label'] == 'analysis'][:400]\n",
    "df_analysis_test = df[df['Label'] == 'analysis'][400:]\n",
    "\n",
    "df_ethics = df[df['Label'] == 'ethics and regulation'][:400]\n",
    "df_ethics_test = df[df['Label'] == 'ethics and regulation'][400:]\n",
    "\n",
    "df_other = df[df['Label'] == 'others'][:400]\n",
    "df_other_test = df[df['Label'] == 'others'][400:]\n",
    "\n",
    "df_train = pd.concat([df_strat, df_sci, df_analysis, df_ethics, df_other])\n",
    "df_val = pd.concat([df_strat_test, df_sci_test, df_analysis_test, df_ethics_test, df_other_test])"
   ]
  },
  {
   "cell_type": "code",
   "execution_count": 18,
   "metadata": {},
   "outputs": [
    {
     "data": {
      "text/plain": [
       "((2000, 3), (405, 3))"
      ]
     },
     "execution_count": 18,
     "metadata": {},
     "output_type": "execute_result"
    }
   ],
   "source": [
    "df_train.shape, df_val.shape"
   ]
  },
  {
   "cell_type": "code",
   "execution_count": 19,
   "metadata": {},
   "outputs": [],
   "source": [
    "# Save the files\n",
    "df_train.to_csv('data/train_balanced_labels.csv', index=False)\n",
    "df_val.to_csv('data/validation.csv', index=False)"
   ]
  },
  {
   "attachments": {},
   "cell_type": "markdown",
   "metadata": {},
   "source": [
    "### Labelled data from 8606 file"
   ]
  },
  {
   "cell_type": "code",
   "execution_count": 20,
   "metadata": {},
   "outputs": [
    {
     "name": "stdout",
     "output_type": "stream",
     "text": [
      "<class 'pandas.core.frame.DataFrame'>\n",
      "RangeIndex: 307 entries, 0 to 306\n",
      "Data columns (total 27 columns):\n",
      " #   Column                                                               Non-Null Count  Dtype  \n",
      "---  ------                                                               --------------  -----  \n",
      " 0   (Question, Unnamed: 0_level_1)                                       300 non-null    object \n",
      " 1   (Answer, Unnamed: 1_level_1)                                         300 non-null    object \n",
      " 2   (Topic , Unnamed: 2_level_1)                                         300 non-null    object \n",
      " 3   (keywords, Unnamed: 3_level_1)                                       300 non-null    object \n",
      " 4   (topic, Unnamed: 4_level_1)                                          5 non-null      object \n",
      " 5   (Bidirectional LSMT glove v. 5 Clean, predicted label )              304 non-null    object \n",
      " 6   (Unnamed: 6_level_0, vs/Laura)                                       139 non-null    object \n",
      " 7   (Laura , Expected label )                                            299 non-null    object \n",
      " 8   (NLabels, Predicted label )                                          306 non-null    object \n",
      " 9   (Unnamed: 9_level_0, vs/Laura)                                       214 non-null    object \n",
      " 10  (Cluster model, predicted label )                                    306 non-null    object \n",
      " 11  (Unnamed: 11_level_0, vs/Laura)                                      107 non-null    object \n",
      " 12  (Unnamed: 12_level_0, cluster)                                       300 non-null    float64\n",
      " 13  (Unnamed: 13_level_0, revised cluster label )                        304 non-null    object \n",
      " 14  (Unnamed: 14_level_0, vs/Laura)                                      200 non-null    object \n",
      " 15  (NLabels n.2, Predicted label)                                       305 non-null    object \n",
      " 16  (Unnamed: 16_level_0, vs/Laura)                                      181 non-null    object \n",
      " 17  (semi supervised learning using  pretrained BERT, Predicted labels)  304 non-null    object \n",
      " 18  (Unnamed: 18_level_0, vs/Laura)                                      169 non-null    object \n",
      " 19  (Clusters prediction , Analysis)                                     262 non-null    float64\n",
      " 20  (Unnamed: 20_level_0, science and tech)                              249 non-null    float64\n",
      " 21  (Unnamed: 21_level_0, ethics and reg)                                35 non-null     object \n",
      " 22  (Unnamed: 22_level_0, others)                                        126 non-null    object \n",
      " 23  (Unnamed: 23_level_0, strategy and management )                      151 non-null    object \n",
      " 24  (Unnamed: 24_level_0, taxonomy )                                     4 non-null      float64\n",
      " 25  (Unnamed: 25_level_0, factual)                                       89 non-null     float64\n",
      " 26  (Unnamed: 26_level_0, expected)                                      300 non-null    object \n",
      "dtypes: float64(5), object(22)\n",
      "memory usage: 64.9+ KB\n"
     ]
    }
   ],
   "source": [
    "# Load the data\n",
    "df = pd.read_csv('data/Labelling models comparison 7 May - all models with clean dataset.csv', header=[0, 1])\n",
    "df.info()"
   ]
  },
  {
   "cell_type": "code",
   "execution_count": 21,
   "metadata": {},
   "outputs": [],
   "source": [
    "data = dict()\n",
    "data['Question'] = df[('Question', 'Unnamed: 0_level_1')].values\n",
    "data['Answer'] = df[('Answer', 'Unnamed: 1_level_1')].values\n",
    "data['Label'] = df[('Unnamed: 26_level_0', 'expected')].values"
   ]
  },
  {
   "cell_type": "code",
   "execution_count": 22,
   "metadata": {},
   "outputs": [
    {
     "name": "stdout",
     "output_type": "stream",
     "text": [
      "<class 'pandas.core.frame.DataFrame'>\n",
      "Int64Index: 300 entries, 0 to 299\n",
      "Data columns (total 3 columns):\n",
      " #   Column    Non-Null Count  Dtype \n",
      "---  ------    --------------  ----- \n",
      " 0   Question  300 non-null    object\n",
      " 1   Answer    300 non-null    object\n",
      " 2   Label     300 non-null    object\n",
      "dtypes: object(3)\n",
      "memory usage: 9.4+ KB\n"
     ]
    }
   ],
   "source": [
    "df_clean = pd.DataFrame(data)\n",
    "df_clean = df_clean.dropna()\n",
    "df_clean.info()"
   ]
  },
  {
   "cell_type": "code",
   "execution_count": 23,
   "metadata": {},
   "outputs": [
    {
     "data": {
      "text/plain": [
       "analysis                 128\n",
       "science and tech          83\n",
       "others                    69\n",
       "strategy                  13\n",
       "ethics and regulation      3\n",
       "ethics and reg             2\n",
       "others/science&tech        1\n",
       "Others                     1\n",
       "Name: Label, dtype: int64"
      ]
     },
     "execution_count": 23,
     "metadata": {},
     "output_type": "execute_result"
    }
   ],
   "source": [
    "df_clean['Label'].value_counts()"
   ]
  },
  {
   "cell_type": "code",
   "execution_count": 24,
   "metadata": {},
   "outputs": [
    {
     "data": {
      "text/plain": [
       "analysis                 128\n",
       "science and tech          83\n",
       "others                    71\n",
       "strategy                  13\n",
       "ethics and regulation      5\n",
       "Name: Label, dtype: int64"
      ]
     },
     "execution_count": 24,
     "metadata": {},
     "output_type": "execute_result"
    }
   ],
   "source": [
    "df_clean = df_clean.replace(['ethics and reg', 'others/science&tech', 'Others'], ['ethics and regulation', 'others', 'others'])\n",
    "df_clean['Label'].value_counts()"
   ]
  },
  {
   "cell_type": "code",
   "execution_count": 25,
   "metadata": {},
   "outputs": [],
   "source": [
    "# Save the file as inference data\n",
    "df_clean.to_csv('data/inference_from_8606.csv', index=False)"
   ]
  },
  {
   "cell_type": "code",
   "execution_count": 26,
   "metadata": {},
   "outputs": [
    {
     "data": {
      "text/plain": [
       "(300, 3)"
      ]
     },
     "execution_count": 26,
     "metadata": {},
     "output_type": "execute_result"
    }
   ],
   "source": [
    "df_clean.shape"
   ]
  },
  {
   "cell_type": "code",
   "execution_count": null,
   "metadata": {},
   "outputs": [],
   "source": []
  }
 ],
 "metadata": {
  "kernelspec": {
   "display_name": "tf-gpu-new",
   "language": "python",
   "name": "python3"
  },
  "language_info": {
   "codemirror_mode": {
    "name": "ipython",
    "version": 3
   },
   "file_extension": ".py",
   "mimetype": "text/x-python",
   "name": "python",
   "nbconvert_exporter": "python",
   "pygments_lexer": "ipython3",
   "version": "3.8.5"
  },
  "orig_nbformat": 4
 },
 "nbformat": 4,
 "nbformat_minor": 2
}
